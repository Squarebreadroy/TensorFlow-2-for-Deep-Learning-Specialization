{
 "cells": [
  {
   "cell_type": "code",
   "execution_count": 1,
   "metadata": {
    "scrolled": true
   },
   "outputs": [
    {
     "name": "stdout",
     "output_type": "stream",
     "text": [
      "2.0.0\n"
     ]
    }
   ],
   "source": [
    "import tensorflow as tf\n",
    "print(tf.__version__)"
   ]
  },
  {
   "cell_type": "markdown",
   "metadata": {},
   "source": [
    "# Validation, regularisation and callbacks"
   ]
  },
  {
   "cell_type": "markdown",
   "metadata": {},
   "source": [
    " ## Coding tutorials\n",
    " #### [1. Validation sets](#coding_tutorial_1)\n",
    " #### [2. Model regularisation](#coding_tutorial_2)\n",
    " #### [3. Introduction to callbacks](#coding_tutorial_3)\n",
    " #### [4. Early stopping / patience](#coding_tutorial_4)"
   ]
  },
  {
   "cell_type": "markdown",
   "metadata": {},
   "source": [
    "***\n",
    "<a id=\"coding_tutorial_1\"></a>\n",
    "## Validation sets"
   ]
  },
  {
   "cell_type": "markdown",
   "metadata": {},
   "source": [
    "#### Load the data"
   ]
  },
  {
   "cell_type": "code",
   "execution_count": 2,
   "metadata": {},
   "outputs": [
    {
     "name": "stdout",
     "output_type": "stream",
     "text": [
      ".. _diabetes_dataset:\n",
      "\n",
      "Diabetes dataset\n",
      "----------------\n",
      "\n",
      "Ten baseline variables, age, sex, body mass index, average blood\n",
      "pressure, and six blood serum measurements were obtained for each of n =\n",
      "442 diabetes patients, as well as the response of interest, a\n",
      "quantitative measure of disease progression one year after baseline.\n",
      "\n",
      "**Data Set Characteristics:**\n",
      "\n",
      "  :Number of Instances: 442\n",
      "\n",
      "  :Number of Attributes: First 10 columns are numeric predictive values\n",
      "\n",
      "  :Target: Column 11 is a quantitative measure of disease progression one year after baseline\n",
      "\n",
      "  :Attribute Information:\n",
      "      - Age\n",
      "      - Sex\n",
      "      - Body mass index\n",
      "      - Average blood pressure\n",
      "      - S1\n",
      "      - S2\n",
      "      - S3\n",
      "      - S4\n",
      "      - S5\n",
      "      - S6\n",
      "\n",
      "Note: Each of these 10 feature variables have been mean centered and scaled by the standard deviation times `n_samples` (i.e. the sum of squares of each column totals 1).\n",
      "\n",
      "Source URL:\n",
      "http://www4.stat.ncsu.edu/~boos/var.select/diabetes.html\n",
      "\n",
      "For more information see:\n",
      "Bradley Efron, Trevor Hastie, Iain Johnstone and Robert Tibshirani (2004) \"Least Angle Regression,\" Annals of Statistics (with discussion), 407-499.\n",
      "(http://web.stanford.edu/~hastie/Papers/LARS/LeastAngle_2002.pdf)\n"
     ]
    }
   ],
   "source": [
    "# Load the diabetes dataset\n",
    "from sklearn.datasets import load_diabetes\n",
    "\n",
    "diabetes_datasets = load_diabetes()\n",
    "print(diabetes_datasets['DESCR'])\n"
   ]
  },
  {
   "cell_type": "code",
   "execution_count": 3,
   "metadata": {},
   "outputs": [
    {
     "name": "stdout",
     "output_type": "stream",
     "text": [
      "dict_keys(['data', 'target', 'DESCR', 'feature_names', 'data_filename', 'target_filename'])\n"
     ]
    }
   ],
   "source": [
    "# Save the input and target variables\n",
    "print(diabetes_datasets.keys())\n",
    "data = diabetes_datasets['data']\n",
    "targets = diabetes_datasets['target']"
   ]
  },
  {
   "cell_type": "code",
   "execution_count": 4,
   "metadata": {},
   "outputs": [
    {
     "data": {
      "text/plain": [
       "array([-1.47194752e-02, -1.00165882e+00, -1.44579915e-01,  6.99512942e-01,\n",
       "       -2.22496178e-01, -7.15965848e-01, -1.83538046e-01, -1.15749134e+00,\n",
       "       -5.47147277e-01,  2.05006151e+00, -6.64021672e-01, -1.07957508e+00,\n",
       "        3.48889755e-01,  4.26806019e-01, -4.43258925e-01,  2.45001404e-01,\n",
       "        1.80071184e-01, -1.05621783e-01, -7.15965848e-01,  2.06043272e-01,\n",
       "       -1.09256112e+00, -1.33929596e+00, -1.09256112e+00,  1.20596866e+00,\n",
       "        4.13819975e-01,  6.47568766e-01, -1.96524090e-01, -8.71798376e-01,\n",
       "       -2.74440354e-01,  1.69943833e+00, -3.00412442e-01, -1.20943552e+00,\n",
       "        2.45262887e+00, -8.45826288e-01, -1.13151925e+00, -6.51035629e-01,\n",
       "        1.46568953e+00,  1.60853602e+00,  1.29687096e+00, -8.06868156e-01,\n",
       "       -6.77007716e-01, -1.26137969e+00, -1.18346343e+00, -7.80896068e-01,\n",
       "        1.38777327e+00, -1.28735178e+00,  4.91736239e-01, -1.31593871e-01,\n",
       "       -1.00165882e+00, -1.31593871e-01,  3.72247006e-02,  9.46247777e-01,\n",
       "       -1.20943552e+00, -6.25063541e-01,  3.87847887e-01, -3.13398486e-01,\n",
       "       -1.30033783e+00, -1.49512849e+00,  2.32015360e-01,  2.32015360e-01,\n",
       "       -1.18346343e+00, -1.05621783e-01, -1.30033783e+00, -3.13398486e-01,\n",
       "       -1.05360299e+00,  1.41113052e-01, -2.77055191e-02, -7.15965848e-01,\n",
       "        1.02154920e-01,  3.35903711e-01, -1.35228200e+00,  1.53061975e+00,\n",
       "        6.47568766e-01, -5.34161233e-01, -8.71798376e-01, -1.43019827e+00,\n",
       "        2.32015360e-01,  6.21596678e-01,  1.29687096e+00, -5.08189145e-01,\n",
       "       -1.18607827e-01, -1.31332387e+00, -1.30033783e+00,  7.51457118e-01,\n",
       "       -1.13151925e+00, -1.44579915e-01, -1.26137969e+00, -2.35482222e-01,\n",
       "       -1.43019827e+00, -5.34161233e-01, -7.02979804e-01,  1.54099096e-01,\n",
       "       -1.35228200e+00, -7.28951892e-01, -8.06868156e-01,  1.28127008e-01,\n",
       "       -2.77055191e-02,  1.64749415e+00, -7.80896068e-01, -8.97770464e-01,\n",
       "       -3.13398486e-01, -6.51035629e-01,  1.94617316e+00,  5.95624590e-01,\n",
       "       -7.41937936e-01, -1.28735178e+00, -2.35482222e-01, -1.05621783e-01,\n",
       "        1.03715008e+00, -9.23742551e-01, -6.25063541e-01, -1.20943552e+00,\n",
       "        1.21895470e+00,  1.88124294e+00,  1.37478723e+00,  9.98191953e-01,\n",
       "        1.59554997e+00,  1.67346624e+00,  3.48889755e-01,  6.21596678e-01,\n",
       "        6.21596678e-01,  2.70973492e-01,  3.61875799e-01, -8.84784420e-01,\n",
       "       -4.04300794e-01,  1.15140964e-01, -6.89993760e-01, -5.60133321e-01,\n",
       "       -4.82217057e-01,  1.50464767e+00,  1.58256393e+00,  7.61828325e-02,\n",
       "       -5.86105409e-01, -8.97770464e-01, -6.38049585e-01,  1.55659184e+00,\n",
       "       -8.71798376e-01,  1.66048019e+00,  2.38769865e+00,  1.67346624e+00,\n",
       "       -4.43258925e-01,  2.14096382e+00,  1.07610822e+00, -1.19644947e+00,\n",
       "        2.83959536e-01,  1.38777327e+00,  3.35903711e-01, -3.13398486e-01,\n",
       "       -7.28951892e-01, -3.39370574e-01,  1.76436855e+00, -8.32840244e-01,\n",
       "        1.81631272e+00, -1.05360299e+00,  5.82638546e-01,  4.39792063e-01,\n",
       "       -1.65096101e+00, -8.84784420e-01, -7.28951892e-01,  5.56666458e-01,\n",
       "       -1.28735178e+00,  8.42359425e-01,  2.57987448e-01, -2.74440354e-01,\n",
       "        8.03401293e-01, -1.20943552e+00, -1.06658903e+00,  8.81317557e-01,\n",
       "        1.50464767e+00, -1.73343121e-03, -1.36526805e+00, -1.01464486e+00,\n",
       "        1.85527085e+00, -6.64021672e-01, -1.47194752e-02, -3.26384530e-01,\n",
       "        1.10208030e+00,  9.46247777e-01, -9.23742551e-01, -1.47194752e-02,\n",
       "       -5.86105409e-01, -1.14450530e+00, -1.83538046e-01,  4.26806019e-01,\n",
       "        1.46568953e+00, -6.64021672e-01, -1.96524090e-01, -1.18607827e-01,\n",
       "       -1.44579915e-01, -9.49714639e-01,  1.81631272e+00,  3.35903711e-01,\n",
       "       -7.93882112e-01, -4.69231013e-01, -8.58812332e-01, -3.91314750e-01,\n",
       "       -1.04061695e+00, -3.00412442e-01, -1.31593871e-01, -8.06868156e-01,\n",
       "        7.61828325e-02, -1.46915640e+00,  5.69652502e-01,  9.07289645e-01,\n",
       "        1.62152206e+00, -6.89993760e-01,  5.69652502e-01,  6.47568766e-01,\n",
       "        3.72247006e-02, -9.75686727e-01,  5.04722283e-01, -1.06658903e+00,\n",
       "       -1.02763090e+00, -1.33929596e+00, -1.13151925e+00,  1.43971745e+00,\n",
       "        1.24492679e+00,  1.86825690e+00,  8.03401293e-01,  4.26806019e-01,\n",
       "       -9.62700683e-01, -7.67910024e-01,  1.29687096e+00, -2.77055191e-02,\n",
       "       -9.75686727e-01,  7.25485030e-01, -9.75686727e-01, -5.73119365e-01,\n",
       "        1.02154920e-01, -1.28735178e+00,  8.81317557e-01,  2.42386567e-02,\n",
       "        1.38777327e+00, -8.06868156e-01,  1.21895470e+00, -3.65342662e-01,\n",
       "       -1.10554717e+00, -1.04061695e+00,  1.36180118e+00,  1.42673140e+00,\n",
       "        1.59554997e+00,  3.22917667e-01, -1.05360299e+00, -1.36526805e+00,\n",
       "        4.52778107e-01, -3.52356618e-01, -9.62700683e-01, -1.31332387e+00,\n",
       "        1.37478723e+00,  8.16387337e-01,  1.95915920e+00,  1.17999657e+00,\n",
       "       -7.93882112e-01, -2.77055191e-02,  2.05006151e+00,  1.12526127e-02,\n",
       "        2.51755909e+00, -1.15749134e+00, -8.19854200e-01, -1.32630991e+00,\n",
       "       -1.46915640e+00, -6.38049585e-01,  2.02408942e+00, -4.69231013e-01,\n",
       "       -9.26357388e-02, -1.01464486e+00, -1.39124013e+00, -4.82217057e-01,\n",
       "        1.45270349e+00, -8.45826288e-01,  6.47568766e-01, -3.26384530e-01,\n",
       "        3.87847887e-01,  1.15402448e+00, -1.11853321e+00, -7.54923980e-01,\n",
       "        1.69943833e+00, -1.14450530e+00, -6.51035629e-01,  6.21596678e-01,\n",
       "        1.46568953e+00, -7.54923980e-01,  1.01117800e+00,  3.74861843e-01,\n",
       "        5.02107446e-02,  1.05013613e+00, -1.19644947e+00,  8.68331513e-01,\n",
       "       -9.36728595e-01, -1.09256112e+00,  2.33575448e+00,  1.24492679e+00,\n",
       "       -8.84784420e-01,  6.21596678e-01, -1.26137969e+00, -8.71798376e-01,\n",
       "       -8.19854200e-01, -1.57304475e+00, -3.00412442e-01, -8.97770464e-01,\n",
       "        1.59554997e+00, -1.13151925e+00,  5.95624590e-01,  1.08909426e+00,\n",
       "        1.30985701e+00, -3.65342662e-01, -1.40422618e+00,  2.57987448e-01,\n",
       "       -4.95203101e-01, -1.31593871e-01, -5.60133321e-01,  3.61875799e-01,\n",
       "       -1.05621783e-01,  1.41113052e-01, -6.66636509e-02, -7.15965848e-01,\n",
       "        8.81317557e-01,  4.91736239e-01, -5.60133321e-01,  5.04722283e-01,\n",
       "       -3.91314750e-01,  1.01117800e+00,  1.16701052e+00,  1.24492679e+00,\n",
       "        1.25791283e+00,  5.17708327e-01, -2.74440354e-01,  1.10208030e+00,\n",
       "       -9.62700683e-01, -2.22496178e-01,  1.19298261e+00,  6.08610634e-01,\n",
       "        1.53061975e+00,  1.54099096e-01, -1.04061695e+00, -7.28951892e-01,\n",
       "        1.99811734e+00, -7.93882112e-01,  8.03401293e-01, -7.41937936e-01,\n",
       "        8.29373381e-01,  1.43971745e+00,  3.35903711e-01, -5.08189145e-01,\n",
       "        6.21596678e-01, -1.70552003e-01, -1.70552003e-01, -8.32840244e-01,\n",
       "       -5.36776070e-02, -8.32840244e-01,  1.17999657e+00, -1.05360299e+00,\n",
       "       -9.75686727e-01, -5.60133321e-01,  1.55659184e+00, -1.19644947e+00,\n",
       "       -1.27436574e+00,  8.94303601e-01, -8.06868156e-01,  2.06304756e+00,\n",
       "        1.67346624e+00,  3.87847887e-01,  2.19290800e+00, -1.22242156e+00,\n",
       "        1.42673140e+00,  6.99512942e-01,  1.05013613e+00,  1.16701052e+00,\n",
       "       -3.78328706e-01,  1.93057228e-01, -1.15749134e+00,  5.82638546e-01,\n",
       "       -1.05360299e+00,  2.06043272e-01, -1.57565959e-01,  8.42359425e-01,\n",
       "       -4.04300794e-01,  1.07610822e+00,  1.20596866e+00, -1.45617035e+00,\n",
       "       -1.30033783e+00, -6.25063541e-01, -2.61454310e-01, -8.32840244e-01,\n",
       "       -1.07957508e+00,  8.68331513e-01, -1.04061695e+00,  6.34582722e-01,\n",
       "       -5.47147277e-01, -1.31332387e+00,  1.62152206e+00, -1.15749134e+00,\n",
       "       -4.43258925e-01, -1.07957508e+00,  1.56957789e+00,  1.37478723e+00,\n",
       "       -1.41721222e+00,  5.95624590e-01,  1.16701052e+00,  1.03715008e+00,\n",
       "        2.96945580e-01, -7.67910024e-01,  2.06043272e-01,  1.59554997e+00,\n",
       "        1.82929877e+00,  1.67346624e+00, -1.04061695e+00, -1.57565959e-01,\n",
       "        4.78750195e-01,  3.74861843e-01,  7.38471074e-01, -2.09510134e-01,\n",
       "        1.41374536e+00, -5.08189145e-01, -2.74440354e-01,  2.83959536e-01,\n",
       "        1.36180118e+00, -1.26137969e+00, -8.84784420e-01, -1.43019827e+00,\n",
       "       -7.96496949e-02,  7.77429206e-01,  1.05013613e+00, -7.93882112e-01,\n",
       "       -5.34161233e-01, -1.73343121e-03, -4.17286837e-01, -1.10554717e+00,\n",
       "        2.05006151e+00, -7.54923980e-01,  4.00833931e-01, -1.11853321e+00,\n",
       "        2.70973492e-01, -1.04061695e+00, -1.33929596e+00, -1.14450530e+00,\n",
       "       -1.35228200e+00,  3.35903711e-01, -6.25063541e-01, -2.61454310e-01,\n",
       "        8.81317557e-01, -1.23540761e+00])"
      ]
     },
     "execution_count": 4,
     "metadata": {},
     "output_type": "execute_result"
    }
   ],
   "source": [
    "# Normalise the target data (this will make clearer training curves)\n",
    "targets = (targets - targets.mean())/targets.std()\n",
    "targets"
   ]
  },
  {
   "cell_type": "code",
   "execution_count": 5,
   "metadata": {},
   "outputs": [
    {
     "name": "stdout",
     "output_type": "stream",
     "text": [
      "(397, 10)\n",
      "(45, 10)\n"
     ]
    }
   ],
   "source": [
    "# Split the data into train and test sets\n",
    "from sklearn.model_selection import train_test_split\n",
    "\n",
    "train_data, test_data, train_targets, test_targets = train_test_split(data,targets,test_size=0.1)\n",
    "\n",
    "print(train_data.shape)\n",
    "print(test_data.shape)\n"
   ]
  },
  {
   "cell_type": "markdown",
   "metadata": {},
   "source": [
    "#### Train a feedforward neural network model"
   ]
  },
  {
   "cell_type": "code",
   "execution_count": 6,
   "metadata": {},
   "outputs": [],
   "source": [
    "# Build the model\n",
    "from tensorflow.keras.models import Sequential\n",
    "from tensorflow.keras.layers import Dense\n",
    "\n",
    "def get_model():\n",
    "    model = Sequential([Dense(128,activation='relu',input_shape=(train_data.shape[1],)),\n",
    "                      Dense(128, activation='relu'),\n",
    "                      Dense(128, activation='relu'),\n",
    "                      Dense(128, activation='relu'),\n",
    "                      Dense(128, activation='relu'),\n",
    "                      Dense(128, activation='relu'),\n",
    "                      Dense(1)\n",
    "                       ])\n",
    "    return model\n",
    "\n",
    "model = get_model()"
   ]
  },
  {
   "cell_type": "code",
   "execution_count": 7,
   "metadata": {},
   "outputs": [
    {
     "name": "stdout",
     "output_type": "stream",
     "text": [
      "Model: \"sequential\"\n",
      "_________________________________________________________________\n",
      "Layer (type)                 Output Shape              Param #   \n",
      "=================================================================\n",
      "dense (Dense)                (None, 128)               1408      \n",
      "_________________________________________________________________\n",
      "dense_1 (Dense)              (None, 128)               16512     \n",
      "_________________________________________________________________\n",
      "dense_2 (Dense)              (None, 128)               16512     \n",
      "_________________________________________________________________\n",
      "dense_3 (Dense)              (None, 128)               16512     \n",
      "_________________________________________________________________\n",
      "dense_4 (Dense)              (None, 128)               16512     \n",
      "_________________________________________________________________\n",
      "dense_5 (Dense)              (None, 128)               16512     \n",
      "_________________________________________________________________\n",
      "dense_6 (Dense)              (None, 1)                 129       \n",
      "=================================================================\n",
      "Total params: 84,097\n",
      "Trainable params: 84,097\n",
      "Non-trainable params: 0\n",
      "_________________________________________________________________\n"
     ]
    }
   ],
   "source": [
    "# Print the model summary\n",
    "model.summary()\n"
   ]
  },
  {
   "cell_type": "code",
   "execution_count": 8,
   "metadata": {},
   "outputs": [],
   "source": [
    "# Compile the model\n",
    "model.compile(optimizer='adam',loss='mae',metrics=['mae'])\n"
   ]
  },
  {
   "cell_type": "code",
   "execution_count": 9,
   "metadata": {},
   "outputs": [],
   "source": [
    "# Train the model, with some of the data reserved for validation\n",
    "history = model.fit(train_data,train_targets,epochs=100,validation_split=0.15,batch_size=64,verbose=False)\n"
   ]
  },
  {
   "cell_type": "code",
   "execution_count": 10,
   "metadata": {},
   "outputs": [
    {
     "name": "stdout",
     "output_type": "stream",
     "text": [
      "45/1 - 0s - loss: 0.5258 - mae: 0.5385\n"
     ]
    },
    {
     "data": {
      "text/plain": [
       "[0.538501152727339, 0.53850114]"
      ]
     },
     "execution_count": 10,
     "metadata": {},
     "output_type": "execute_result"
    }
   ],
   "source": [
    "# Evaluate the model on the test set\n",
    "model.evaluate(test_data,test_targets,verbose=2)\n"
   ]
  },
  {
   "cell_type": "markdown",
   "metadata": {},
   "source": [
    "#### Plot the learning curves"
   ]
  },
  {
   "cell_type": "code",
   "execution_count": 11,
   "metadata": {},
   "outputs": [],
   "source": [
    "import matplotlib.pyplot as plt\n",
    "%matplotlib inline"
   ]
  },
  {
   "cell_type": "code",
   "execution_count": 12,
   "metadata": {},
   "outputs": [
    {
     "data": {
      "image/png": "[encoded data removed]",
      "text/plain": [
       "<Figure size 432x288 with 1 Axes>"
      ]
     },
     "metadata": {
      "needs_background": "light"
     },
     "output_type": "display_data"
    }
   ],
   "source": [
    "# Plot the training and validation loss\n",
    "\n",
    "plt.plot(history.history['loss'])\n",
    "plt.plot(history.history['val_loss'])\n",
    "plt.title('Loss vs. epochs')\n",
    "plt.ylabel('Loss')\n",
    "plt.xlabel('Epoch')\n",
    "plt.legend(['Training', 'Validation'], loc='upper right')\n",
    "plt.show()"
   ]
  },
  {
   "cell_type": "markdown",
   "metadata": {},
   "source": [
    "***\n",
    "<a id=\"coding_tutorial_2\"></a>\n",
    "## Model regularisation"
   ]
  },
  {
   "cell_type": "markdown",
   "metadata": {},
   "source": [
    "#### Adding regularisation with weight decay and dropout"
   ]
  },
  {
   "cell_type": "code",
   "execution_count": 13,
   "metadata": {},
   "outputs": [],
   "source": [
    "from tensorflow.keras.layers import Dropout\n",
    "from tensorflow.keras import regularizers"
   ]
  },
  {
   "cell_type": "code",
   "execution_count": 14,
   "metadata": {},
   "outputs": [],
   "source": [
    "def get_regularised_model(wd, rate):\n",
    "    model = Sequential([\n",
    "        Dense(128, kernel_regularizer=regularizers.l2(wd), activation=\"relu\", input_shape=(train_data.shape[1],)),\n",
    "        Dropout(rate),\n",
    "        Dense(128, kernel_regularizer=regularizers.l2(wd), activation=\"relu\"),\n",
    "        Dropout(rate),\n",
    "        Dense(128, kernel_regularizer=regularizers.l2(wd), activation=\"relu\"),\n",
    "        Dropout(rate),\n",
    "        Dense(128, kernel_regularizer=regularizers.l2(wd), activation=\"relu\"),\n",
    "        Dropout(rate),\n",
    "        Dense(128, kernel_regularizer=regularizers.l2(wd), activation=\"relu\"),\n",
    "        Dropout(rate),\n",
    "        Dense(128, kernel_regularizer=regularizers.l2(wd), activation=\"relu\"),\n",
    "        Dropout(rate),\n",
    "        Dense(1)\n",
    "    ])\n",
    "    return model"
   ]
  },
  {
   "cell_type": "code",
   "execution_count": 15,
   "metadata": {},
   "outputs": [],
   "source": [
    "# Re-build the model with weight decay and dropout layers\n",
    "model = get_regularised_model(1e-5,0.3)"
   ]
  },
  {
   "cell_type": "code",
   "execution_count": 16,
   "metadata": {},
   "outputs": [],
   "source": [
    "# Compile the model\n",
    "model.compile(optimizer='adam',loss='mae',metrics=['mae'])\n"
   ]
  },
  {
   "cell_type": "code",
   "execution_count": 17,
   "metadata": {},
   "outputs": [
    {
     "name": "stdout",
     "output_type": "stream",
     "text": [
      "Train on 337 samples, validate on 60 samples\n",
      "Epoch 1/100\n",
      "337/337 [==============================] - 2s 6ms/sample - loss: 0.8590 - mae: 0.8524 - val_loss: 0.9064 - val_mae: 0.8998\n",
      "Epoch 2/100\n",
      "337/337 [==============================] - 0s 576us/sample - loss: 0.8508 - mae: 0.8443 - val_loss: 0.8839 - val_mae: 0.8773\n",
      "Epoch 3/100\n",
      "337/337 [==============================] - 0s 586us/sample - loss: 0.8368 - mae: 0.8303 - val_loss: 0.8478 - val_mae: 0.8413\n",
      "Epoch 4/100\n",
      "337/337 [==============================] - 0s 583us/sample - loss: 0.8081 - mae: 0.8015 - val_loss: 0.7760 - val_mae: 0.7695\n",
      "Epoch 5/100\n",
      "337/337 [==============================] - 0s 576us/sample - loss: 0.7509 - mae: 0.7443 - val_loss: 0.7214 - val_mae: 0.7149\n",
      "Epoch 6/100\n",
      "337/337 [==============================] - 0s 586us/sample - loss: 0.7512 - mae: 0.7447 - val_loss: 0.7127 - val_mae: 0.7062\n",
      "Epoch 7/100\n",
      "337/337 [==============================] - 0s 344us/sample - loss: 0.7182 - mae: 0.7117 - val_loss: 0.6977 - val_mae: 0.6912\n",
      "Epoch 8/100\n",
      "337/337 [==============================] - 0s 601us/sample - loss: 0.6889 - mae: 0.6824 - val_loss: 0.6715 - val_mae: 0.6650\n",
      "Epoch 9/100\n",
      "337/337 [==============================] - 0s 602us/sample - loss: 0.6496 - mae: 0.6431 - val_loss: 0.6554 - val_mae: 0.6489\n",
      "Epoch 10/100\n",
      "337/337 [==============================] - 0s 330us/sample - loss: 0.6323 - mae: 0.6258 - val_loss: 0.6717 - val_mae: 0.6652\n",
      "Epoch 11/100\n",
      "337/337 [==============================] - 0s 592us/sample - loss: 0.6094 - mae: 0.6029 - val_loss: 0.6541 - val_mae: 0.6476\n",
      "Epoch 12/100\n",
      "337/337 [==============================] - 0s 583us/sample - loss: 0.6074 - mae: 0.6009 - val_loss: 0.6739 - val_mae: 0.6674\n",
      "Epoch 13/100\n",
      "337/337 [==============================] - 0s 605us/sample - loss: 0.5966 - mae: 0.5901 - val_loss: 0.6742 - val_mae: 0.6677\n",
      "Epoch 14/100\n",
      "337/337 [==============================] - 0s 567us/sample - loss: 0.6255 - mae: 0.6190 - val_loss: 0.6451 - val_mae: 0.6387\n",
      "Epoch 15/100\n",
      "337/337 [==============================] - 0s 599us/sample - loss: 0.5962 - mae: 0.5897 - val_loss: 0.6451 - val_mae: 0.6386\n",
      "Epoch 16/100\n",
      "337/337 [==============================] - 0s 578us/sample - loss: 0.5739 - mae: 0.5675 - val_loss: 0.6537 - val_mae: 0.6472\n",
      "Epoch 17/100\n",
      "337/337 [==============================] - 0s 588us/sample - loss: 0.5825 - mae: 0.5760 - val_loss: 0.6398 - val_mae: 0.6333\n",
      "Epoch 18/100\n",
      "337/337 [==============================] - 0s 565us/sample - loss: 0.5439 - mae: 0.5374 - val_loss: 0.6404 - val_mae: 0.6340\n",
      "Epoch 19/100\n",
      "337/337 [==============================] - 0s 620us/sample - loss: 0.5476 - mae: 0.5412 - val_loss: 0.6481 - val_mae: 0.6417\n",
      "Epoch 20/100\n",
      "337/337 [==============================] - 0s 870us/sample - loss: 0.5929 - mae: 0.5865 - val_loss: 0.6667 - val_mae: 0.6603\n",
      "Epoch 21/100\n",
      "337/337 [==============================] - 0s 619us/sample - loss: 0.5464 - mae: 0.5399 - val_loss: 0.6538 - val_mae: 0.6473\n",
      "Epoch 22/100\n",
      "337/337 [==============================] - 0s 848us/sample - loss: 0.5626 - mae: 0.5561 - val_loss: 0.6476 - val_mae: 0.6411\n",
      "Epoch 23/100\n",
      "337/337 [==============================] - 0s 626us/sample - loss: 0.5385 - mae: 0.5320 - val_loss: 0.6578 - val_mae: 0.6514\n",
      "Epoch 24/100\n",
      "337/337 [==============================] - 0s 864us/sample - loss: 0.5630 - mae: 0.5565 - val_loss: 0.6796 - val_mae: 0.6731\n",
      "Epoch 25/100\n",
      "337/337 [==============================] - 0s 613us/sample - loss: 0.5487 - mae: 0.5422 - val_loss: 0.6574 - val_mae: 0.6509\n",
      "Epoch 26/100\n",
      "337/337 [==============================] - 0s 588us/sample - loss: 0.5795 - mae: 0.5731 - val_loss: 0.6550 - val_mae: 0.6486\n",
      "Epoch 27/100\n",
      "337/337 [==============================] - 0s 576us/sample - loss: 0.5695 - mae: 0.5630 - val_loss: 0.6599 - val_mae: 0.6534\n",
      "Epoch 28/100\n",
      "337/337 [==============================] - 0s 328us/sample - loss: 0.5686 - mae: 0.5622 - val_loss: 0.6519 - val_mae: 0.6455\n",
      "Epoch 29/100\n",
      "337/337 [==============================] - 0s 840us/sample - loss: 0.5401 - mae: 0.5337 - val_loss: 0.6417 - val_mae: 0.6352\n",
      "Epoch 30/100\n",
      "337/337 [==============================] - 0s 612us/sample - loss: 0.5748 - mae: 0.5683 - val_loss: 0.6570 - val_mae: 0.6505\n",
      "Epoch 31/100\n",
      "337/337 [==============================] - 0s 319us/sample - loss: 0.5458 - mae: 0.5394 - val_loss: 0.6635 - val_mae: 0.6570\n",
      "Epoch 32/100\n",
      "337/337 [==============================] - 0s 580us/sample - loss: 0.5472 - mae: 0.5408 - val_loss: 0.6511 - val_mae: 0.6447\n",
      "Epoch 33/100\n",
      "337/337 [==============================] - 0s 589us/sample - loss: 0.5527 - mae: 0.5463 - val_loss: 0.6469 - val_mae: 0.6405\n",
      "Epoch 34/100\n",
      "337/337 [==============================] - 0s 876us/sample - loss: 0.5408 - mae: 0.5344 - val_loss: 0.6502 - val_mae: 0.6438\n",
      "Epoch 35/100\n",
      "337/337 [==============================] - 0s 609us/sample - loss: 0.5413 - mae: 0.5348 - val_loss: 0.6312 - val_mae: 0.6247\n",
      "Epoch 36/100\n",
      "337/337 [==============================] - 0s 879us/sample - loss: 0.5365 - mae: 0.5300 - val_loss: 0.6366 - val_mae: 0.6302\n",
      "Epoch 37/100\n",
      "337/337 [==============================] - 0s 887us/sample - loss: 0.5587 - mae: 0.5523 - val_loss: 0.6548 - val_mae: 0.6484\n",
      "Epoch 38/100\n",
      "337/337 [==============================] - 0s 863us/sample - loss: 0.5524 - mae: 0.5460 - val_loss: 0.6606 - val_mae: 0.6542\n",
      "Epoch 39/100\n",
      "337/337 [==============================] - 0s 607us/sample - loss: 0.5310 - mae: 0.5246 - val_loss: 0.6549 - val_mae: 0.6485\n",
      "Epoch 40/100\n",
      "337/337 [==============================] - 0s 878us/sample - loss: 0.5246 - mae: 0.5182 - val_loss: 0.6375 - val_mae: 0.6311\n",
      "Epoch 41/100\n",
      "337/337 [==============================] - 0s 890us/sample - loss: 0.5115 - mae: 0.5051 - val_loss: 0.6252 - val_mae: 0.6188\n",
      "Epoch 42/100\n",
      "337/337 [==============================] - 0s 612us/sample - loss: 0.5401 - mae: 0.5337 - val_loss: 0.6296 - val_mae: 0.6232\n",
      "Epoch 43/100\n",
      "337/337 [==============================] - 0s 627us/sample - loss: 0.5441 - mae: 0.5377 - val_loss: 0.6532 - val_mae: 0.6468\n",
      "Epoch 44/100\n",
      "337/337 [==============================] - 0s 863us/sample - loss: 0.5391 - mae: 0.5327 - val_loss: 0.6548 - val_mae: 0.6484\n",
      "Epoch 45/100\n",
      "337/337 [==============================] - 0s 884us/sample - loss: 0.5349 - mae: 0.5285 - val_loss: 0.6498 - val_mae: 0.6434\n",
      "Epoch 46/100\n",
      "337/337 [==============================] - 0s 607us/sample - loss: 0.5351 - mae: 0.5288 - val_loss: 0.6387 - val_mae: 0.6323\n",
      "Epoch 47/100\n",
      "337/337 [==============================] - 0s 875us/sample - loss: 0.5135 - mae: 0.5071 - val_loss: 0.6334 - val_mae: 0.6270\n",
      "Epoch 48/100\n",
      "337/337 [==============================] - 0s 582us/sample - loss: 0.5395 - mae: 0.5331 - val_loss: 0.6585 - val_mae: 0.6521\n",
      "Epoch 49/100\n",
      "337/337 [==============================] - 0s 592us/sample - loss: 0.5327 - mae: 0.5263 - val_loss: 0.6647 - val_mae: 0.6583\n",
      "Epoch 50/100\n",
      "337/337 [==============================] - 0s 338us/sample - loss: 0.5023 - mae: 0.4959 - val_loss: 0.6453 - val_mae: 0.6389\n",
      "Epoch 51/100\n",
      "337/337 [==============================] - 0s 580us/sample - loss: 0.5521 - mae: 0.5457 - val_loss: 0.6654 - val_mae: 0.6590\n",
      "Epoch 52/100\n",
      "337/337 [==============================] - 0s 589us/sample - loss: 0.5368 - mae: 0.5305 - val_loss: 0.6567 - val_mae: 0.6503\n",
      "Epoch 53/100\n",
      "337/337 [==============================] - 0s 573us/sample - loss: 0.5173 - mae: 0.5110 - val_loss: 0.6676 - val_mae: 0.6613\n",
      "Epoch 54/100\n",
      "337/337 [==============================] - 0s 580us/sample - loss: 0.5099 - mae: 0.5036 - val_loss: 0.6496 - val_mae: 0.6432\n",
      "Epoch 55/100\n",
      "337/337 [==============================] - 0s 348us/sample - loss: 0.5241 - mae: 0.5177 - val_loss: 0.6454 - val_mae: 0.6391\n",
      "Epoch 56/100\n",
      "337/337 [==============================] - 0s 344us/sample - loss: 0.5161 - mae: 0.5098 - val_loss: 0.6694 - val_mae: 0.6630\n",
      "Epoch 57/100\n",
      "337/337 [==============================] - 0s 579us/sample - loss: 0.5359 - mae: 0.5295 - val_loss: 0.6801 - val_mae: 0.6738\n",
      "Epoch 58/100\n",
      "337/337 [==============================] - 0s 590us/sample - loss: 0.5283 - mae: 0.5219 - val_loss: 0.6768 - val_mae: 0.6704\n",
      "Epoch 59/100\n",
      "337/337 [==============================] - 0s 585us/sample - loss: 0.5012 - mae: 0.4948 - val_loss: 0.6489 - val_mae: 0.6426\n",
      "Epoch 60/100\n"
     ]
    },
    {
     "name": "stdout",
     "output_type": "stream",
     "text": [
      "337/337 [==============================] - 0s 599us/sample - loss: 0.5174 - mae: 0.5111 - val_loss: 0.6354 - val_mae: 0.6291\n",
      "Epoch 61/100\n",
      "337/337 [==============================] - 0s 574us/sample - loss: 0.5113 - mae: 0.5049 - val_loss: 0.6634 - val_mae: 0.6571\n",
      "Epoch 62/100\n",
      "337/337 [==============================] - 0s 320us/sample - loss: 0.5262 - mae: 0.5198 - val_loss: 0.6809 - val_mae: 0.6745\n",
      "Epoch 63/100\n",
      "337/337 [==============================] - 0s 580us/sample - loss: 0.5166 - mae: 0.5103 - val_loss: 0.6620 - val_mae: 0.6557\n",
      "Epoch 64/100\n",
      "337/337 [==============================] - 0s 592us/sample - loss: 0.5206 - mae: 0.5143 - val_loss: 0.6231 - val_mae: 0.6167\n",
      "Epoch 65/100\n",
      "337/337 [==============================] - 0s 583us/sample - loss: 0.4870 - mae: 0.4807 - val_loss: 0.6495 - val_mae: 0.6431\n",
      "Epoch 66/100\n",
      "337/337 [==============================] - 0s 568us/sample - loss: 0.4928 - mae: 0.4865 - val_loss: 0.6589 - val_mae: 0.6526\n",
      "Epoch 67/100\n",
      "337/337 [==============================] - 0s 335us/sample - loss: 0.5020 - mae: 0.4956 - val_loss: 0.6433 - val_mae: 0.6369\n",
      "Epoch 68/100\n",
      "337/337 [==============================] - 0s 586us/sample - loss: 0.5075 - mae: 0.5012 - val_loss: 0.6573 - val_mae: 0.6509\n",
      "Epoch 69/100\n",
      "337/337 [==============================] - 0s 585us/sample - loss: 0.5082 - mae: 0.5018 - val_loss: 0.6634 - val_mae: 0.6571\n",
      "Epoch 70/100\n",
      "337/337 [==============================] - 0s 593us/sample - loss: 0.5118 - mae: 0.5055 - val_loss: 0.6707 - val_mae: 0.6643\n",
      "Epoch 71/100\n",
      "337/337 [==============================] - 0s 575us/sample - loss: 0.5023 - mae: 0.4960 - val_loss: 0.6623 - val_mae: 0.6560\n",
      "Epoch 72/100\n",
      "337/337 [==============================] - 0s 571us/sample - loss: 0.5158 - mae: 0.5095 - val_loss: 0.6376 - val_mae: 0.6312\n",
      "Epoch 73/100\n",
      "337/337 [==============================] - 0s 340us/sample - loss: 0.5573 - mae: 0.5510 - val_loss: 0.6512 - val_mae: 0.6449\n",
      "Epoch 74/100\n",
      "337/337 [==============================] - 0s 580us/sample - loss: 0.5147 - mae: 0.5084 - val_loss: 0.6674 - val_mae: 0.6611\n",
      "Epoch 75/100\n",
      "337/337 [==============================] - 0s 591us/sample - loss: 0.5110 - mae: 0.5046 - val_loss: 0.6534 - val_mae: 0.6470\n",
      "Epoch 76/100\n",
      "337/337 [==============================] - 0s 594us/sample - loss: 0.5147 - mae: 0.5084 - val_loss: 0.6550 - val_mae: 0.6487\n",
      "Epoch 77/100\n",
      "337/337 [==============================] - 0s 580us/sample - loss: 0.5009 - mae: 0.4946 - val_loss: 0.6455 - val_mae: 0.6392\n",
      "Epoch 78/100\n",
      "337/337 [==============================] - 0s 565us/sample - loss: 0.4996 - mae: 0.4932 - val_loss: 0.6415 - val_mae: 0.6352\n",
      "Epoch 79/100\n",
      "337/337 [==============================] - 0s 346us/sample - loss: 0.5110 - mae: 0.5047 - val_loss: 0.6375 - val_mae: 0.6312\n",
      "Epoch 80/100\n",
      "337/337 [==============================] - 0s 347us/sample - loss: 0.5045 - mae: 0.4982 - val_loss: 0.6548 - val_mae: 0.6485\n",
      "Epoch 81/100\n",
      "337/337 [==============================] - 0s 589us/sample - loss: 0.5044 - mae: 0.4981 - val_loss: 0.6578 - val_mae: 0.6515\n",
      "Epoch 82/100\n",
      "337/337 [==============================] - 0s 585us/sample - loss: 0.5054 - mae: 0.4991 - val_loss: 0.6530 - val_mae: 0.6467\n",
      "Epoch 83/100\n",
      "337/337 [==============================] - 0s 578us/sample - loss: 0.4888 - mae: 0.4825 - val_loss: 0.6539 - val_mae: 0.6476\n",
      "Epoch 84/100\n",
      "337/337 [==============================] - 0s 570us/sample - loss: 0.4892 - mae: 0.4829 - val_loss: 0.6464 - val_mae: 0.6401\n",
      "Epoch 85/100\n",
      "337/337 [==============================] - 0s 586us/sample - loss: 0.4951 - mae: 0.4888 - val_loss: 0.6593 - val_mae: 0.6530\n",
      "Epoch 86/100\n",
      "337/337 [==============================] - 0s 349us/sample - loss: 0.4828 - mae: 0.4765 - val_loss: 0.6605 - val_mae: 0.6542\n",
      "Epoch 87/100\n",
      "337/337 [==============================] - 0s 354us/sample - loss: 0.4836 - mae: 0.4773 - val_loss: 0.6588 - val_mae: 0.6525\n",
      "Epoch 88/100\n",
      "337/337 [==============================] - 0s 582us/sample - loss: 0.4690 - mae: 0.4627 - val_loss: 0.6669 - val_mae: 0.6606\n",
      "Epoch 89/100\n",
      "337/337 [==============================] - 0s 591us/sample - loss: 0.4995 - mae: 0.4932 - val_loss: 0.6707 - val_mae: 0.6644\n",
      "Epoch 90/100\n",
      "337/337 [==============================] - 0s 584us/sample - loss: 0.4912 - mae: 0.4849 - val_loss: 0.6657 - val_mae: 0.6594\n",
      "Epoch 91/100\n",
      "337/337 [==============================] - 0s 591us/sample - loss: 0.4843 - mae: 0.4780 - val_loss: 0.6547 - val_mae: 0.6484\n",
      "Epoch 92/100\n",
      "337/337 [==============================] - 0s 590us/sample - loss: 0.4861 - mae: 0.4798 - val_loss: 0.6646 - val_mae: 0.6583\n",
      "Epoch 93/100\n",
      "337/337 [==============================] - 0s 589us/sample - loss: 0.4903 - mae: 0.4840 - val_loss: 0.6700 - val_mae: 0.6636\n",
      "Epoch 94/100\n",
      "337/337 [==============================] - 0s 583us/sample - loss: 0.5016 - mae: 0.4953 - val_loss: 0.6594 - val_mae: 0.6531\n",
      "Epoch 95/100\n",
      "337/337 [==============================] - 0s 568us/sample - loss: 0.5108 - mae: 0.5045 - val_loss: 0.6667 - val_mae: 0.6604\n",
      "Epoch 96/100\n",
      "337/337 [==============================] - 0s 346us/sample - loss: 0.4874 - mae: 0.4811 - val_loss: 0.6878 - val_mae: 0.6815\n",
      "Epoch 97/100\n",
      "337/337 [==============================] - 0s 579us/sample - loss: 0.5077 - mae: 0.5014 - val_loss: 0.6549 - val_mae: 0.6486\n",
      "Epoch 98/100\n",
      "337/337 [==============================] - 0s 589us/sample - loss: 0.5264 - mae: 0.5201 - val_loss: 0.6531 - val_mae: 0.6468\n",
      "Epoch 99/100\n",
      "337/337 [==============================] - 0s 585us/sample - loss: 0.4724 - mae: 0.4661 - val_loss: 0.6622 - val_mae: 0.6559\n",
      "Epoch 100/100\n",
      "337/337 [==============================] - 0s 589us/sample - loss: 0.4717 - mae: 0.4654 - val_loss: 0.6427 - val_mae: 0.6364\n"
     ]
    }
   ],
   "source": [
    "# Train the model, with some of the data reserved for validation\n",
    "history = model.fit(train_data,train_targets,epochs=100,validation_split=0.15,batch_size=64,verbose=1)\n",
    "\n"
   ]
  },
  {
   "cell_type": "code",
   "execution_count": 18,
   "metadata": {},
   "outputs": [
    {
     "name": "stdout",
     "output_type": "stream",
     "text": [
      "45/1 - 0s - loss: 0.5883 - mae: 0.5875\n"
     ]
    },
    {
     "data": {
      "text/plain": [
       "[0.5937769638167487, 0.5874644]"
      ]
     },
     "execution_count": 18,
     "metadata": {},
     "output_type": "execute_result"
    }
   ],
   "source": [
    "# Evaluate the model on the test set\n",
    "model.evaluate(test_data,test_targets,verbose=2)\n"
   ]
  },
  {
   "cell_type": "markdown",
   "metadata": {},
   "source": [
    "#### Plot the learning curves"
   ]
  },
  {
   "cell_type": "code",
   "execution_count": 19,
   "metadata": {},
   "outputs": [
    {
     "data": {
      "image/png": "[encoded data removed]",
      "text/plain": [
       "<Figure size 432x288 with 1 Axes>"
      ]
     },
     "metadata": {
      "needs_background": "light"
     },
     "output_type": "display_data"
    }
   ],
   "source": [
    "# Plot the training and validation loss\n",
    "\n",
    "import matplotlib.pyplot as plt\n",
    "\n",
    "plt.plot(history.history['loss'])\n",
    "plt.plot(history.history['val_loss'])\n",
    "plt.title('Loss vs. epochs')\n",
    "plt.ylabel('Loss')\n",
    "plt.xlabel('Epoch')\n",
    "plt.legend(['Training', 'Validation'], loc='upper right')\n",
    "plt.show()"
   ]
  },
  {
   "cell_type": "markdown",
   "metadata": {},
   "source": [
    "***\n",
    "<a id=\"coding_tutorial_3\"></a>\n",
    "## Introduction to callbacks"
   ]
  },
  {
   "cell_type": "markdown",
   "metadata": {},
   "source": [
    "#### Example training callback"
   ]
  },
  {
   "cell_type": "code",
   "execution_count": 20,
   "metadata": {},
   "outputs": [],
   "source": [
    "# Write a custom callback\n",
    "\n",
    "from tensorflow.keras.callbacks import Callback\n",
    "\n",
    "class TrainingCallBack(Callback):\n",
    "    \n",
    "    def on_train_begin(self, logs=None):\n",
    "        print(\"Starting training....\")\n",
    "        \n",
    "    def on_epoch_begin(self, epoch, logs=None):\n",
    "        print(f\"Starting epoch {epoch}\")\n",
    "        \n",
    "    def on_train_batch_begin(self, batch, logs=None):\n",
    "        print(f\"Training: Starting batch {batch}\")\n",
    "    \n",
    "    def on_train_batch_end(self, batch, logs=None):\n",
    "        print(f\"Training: Finished batch {batch}\")\n",
    "        \n",
    "    def on_epoch_end(self, epoch, logs=None):\n",
    "        print(f\"Finished epoch {epoch}\")\n",
    "    \n",
    "    def on_train_end(self, logs=None):\n",
    "        print(\"Finished training!\")\n",
    "        \n",
    "class TestingCallBack(Callback):\n",
    "    \n",
    "    def on_test_begin(self, logs=None):\n",
    "        print(\"Starting testing....\")\n",
    "        \n",
    "    def on_epoch_begin(self, epoch, logs=None):\n",
    "        print(f\"Starting epoch {epoch}\")\n",
    "        \n",
    "    def on_test_batch_begin(self, batch, logs=None):\n",
    "        print(f\"Testing: Starting batch {batch}\")\n",
    "    \n",
    "    def on_test_batch_end(self, batch, logs=None):\n",
    "        print(f\"Testing: Finished batch {batch}\")\n",
    "        \n",
    "    def on_epoch_end(self, epoch, logs=None):\n",
    "        print(f\"Finished epoch {epoch}\")\n",
    "    \n",
    "    def on_test_end(self, logs=None):\n",
    "        print(\"Finished testing!\")\n",
    "        \n",
    "class PredictionCallBack(Callback):\n",
    "    \n",
    "    def on_predict_begin(self, logs=None):\n",
    "        print(\"Starting prediction....\")\n",
    "        \n",
    "    def on_predict_batch_begin(self, batch, logs=None):\n",
    "        print(f\"Prediction: Starting batch {batch}\")\n",
    "    \n",
    "    def on_predict_batch_end(self, batch, logs=None):\n",
    "        print(f\"Prediction: Finished batch {batch}\")\n",
    "    \n",
    "    def on_prediction_end(self, logs=None):\n",
    "        print(\"Finished prediction!\")\n",
    "        "
   ]
  },
  {
   "cell_type": "code",
   "execution_count": 21,
   "metadata": {},
   "outputs": [],
   "source": [
    "# Re-build the model\n",
    "model = get_regularised_model(1e-5, 0.3)\n"
   ]
  },
  {
   "cell_type": "code",
   "execution_count": 22,
   "metadata": {},
   "outputs": [],
   "source": [
    "# Compile the model\n",
    "model.compile(optimizer='adam', loss='mae')\n"
   ]
  },
  {
   "cell_type": "markdown",
   "metadata": {},
   "source": [
    "#### Train the model with the callback"
   ]
  },
  {
   "cell_type": "code",
   "execution_count": 23,
   "metadata": {},
   "outputs": [
    {
     "name": "stdout",
     "output_type": "stream",
     "text": [
      "Starting training....\n",
      "Starting epoch 0\n",
      "Training: Starting batch 0\n",
      "Training: Finished batch 0\n",
      "Training: Starting batch 1\n",
      "Training: Finished batch 1\n",
      "Training: Starting batch 2\n",
      "Training: Finished batch 2\n",
      "Training: Starting batch 3\n",
      "Training: Finished batch 3\n",
      "Finished epoch 0\n",
      "Starting epoch 1\n",
      "Training: Starting batch 0\n",
      "Training: Finished batch 0\n",
      "Training: Starting batch 1\n",
      "Training: Finished batch 1\n",
      "Training: Starting batch 2\n",
      "Training: Finished batch 2\n",
      "Training: Starting batch 3\n",
      "Training: Finished batch 3\n",
      "Finished epoch 1\n",
      "Starting epoch 2\n",
      "Training: Starting batch 0\n",
      "Training: Finished batch 0\n",
      "Training: Starting batch 1\n",
      "Training: Finished batch 1\n",
      "Training: Starting batch 2\n",
      "Training: Finished batch 2\n",
      "Training: Starting batch 3\n",
      "Training: Finished batch 3\n",
      "Finished epoch 2\n",
      "Finished training!\n"
     ]
    },
    {
     "data": {
      "text/plain": [
       "<tensorflow.python.keras.callbacks.History at 0x7df10c418048>"
      ]
     },
     "execution_count": 23,
     "metadata": {},
     "output_type": "execute_result"
    }
   ],
   "source": [
    "# Train the model, with some of the data reserved for validation14\n",
    "model.fit(train_data, train_targets, epochs=3, batch_size=128, verbose=False, callbacks=[TrainingCallBack()])"
   ]
  },
  {
   "cell_type": "code",
   "execution_count": 24,
   "metadata": {},
   "outputs": [
    {
     "name": "stdout",
     "output_type": "stream",
     "text": [
      "Starting testing....\n",
      "Testing: Starting batch 0\n",
      "Testing: Finished batch 0\n",
      "Testing: Starting batch 1\n",
      "Testing: Finished batch 1\n",
      "Finished testing!\n"
     ]
    },
    {
     "data": {
      "text/plain": [
       "0.7238965882195367"
      ]
     },
     "execution_count": 24,
     "metadata": {},
     "output_type": "execute_result"
    }
   ],
   "source": [
    "# Evaluate the model\n",
    "model.evaluate(test_data, test_targets,verbose=False,callbacks=[TestingCallBack()])\n"
   ]
  },
  {
   "cell_type": "code",
   "execution_count": 25,
   "metadata": {},
   "outputs": [
    {
     "name": "stdout",
     "output_type": "stream",
     "text": [
      "Starting prediction....\n",
      "Prediction: Starting batch 0\n",
      "Prediction: Finished batch 0\n",
      "Prediction: Starting batch 1\n",
      "Prediction: Finished batch 1\n"
     ]
    },
    {
     "data": {
      "text/plain": [
       "array([[-0.23350784],\n",
       "       [-0.21900146],\n",
       "       [-0.14575507],\n",
       "       [-0.2917147 ],\n",
       "       [-0.16490978],\n",
       "       [-0.13196917],\n",
       "       [-0.26929557],\n",
       "       [-0.23991695],\n",
       "       [-0.2807873 ],\n",
       "       [-0.19840018],\n",
       "       [-0.12241808],\n",
       "       [-0.14847374],\n",
       "       [-0.29427764],\n",
       "       [-0.18584792],\n",
       "       [-0.16844663],\n",
       "       [-0.30516708],\n",
       "       [-0.13338557],\n",
       "       [-0.24863715],\n",
       "       [-0.2382841 ],\n",
       "       [-0.1542706 ],\n",
       "       [-0.09810828],\n",
       "       [-0.26712823],\n",
       "       [-0.12813699],\n",
       "       [-0.20727783],\n",
       "       [-0.17353675],\n",
       "       [-0.17014667],\n",
       "       [-0.1370731 ],\n",
       "       [-0.14991388],\n",
       "       [-0.11694999],\n",
       "       [-0.12531674],\n",
       "       [-0.200736  ],\n",
       "       [-0.34676468],\n",
       "       [-0.27519348],\n",
       "       [-0.1731253 ],\n",
       "       [-0.1544345 ],\n",
       "       [-0.13987198],\n",
       "       [-0.11627595],\n",
       "       [-0.24136207],\n",
       "       [-0.25851357],\n",
       "       [-0.10654125],\n",
       "       [-0.27299532],\n",
       "       [-0.21947196],\n",
       "       [-0.28939933],\n",
       "       [-0.14514628],\n",
       "       [-0.2587646 ]], dtype=float32)"
      ]
     },
     "execution_count": 25,
     "metadata": {},
     "output_type": "execute_result"
    }
   ],
   "source": [
    "# Make predictions with the model\n",
    "model.predict(test_data, verbose=False, callbacks=[PredictionCallBack()])\n"
   ]
  },
  {
   "cell_type": "markdown",
   "metadata": {},
   "source": [
    "***\n",
    "<a id=\"coding_tutorial_4\"></a>\n",
    "## Early stopping / patience"
   ]
  },
  {
   "cell_type": "markdown",
   "metadata": {},
   "source": [
    "#### Re-train the models with early stopping"
   ]
  },
  {
   "cell_type": "code",
   "execution_count": 26,
   "metadata": {},
   "outputs": [],
   "source": [
    "# Re-train the unregularised model\n",
    "unregularised_model = get_model()\n",
    "unregularised_model.compile(optimizer='adam', loss='mae')\n",
    "unreg_history = unregularised_model.fit(train_data,train_targets,epochs=100,validation_split=0.15,batch_size=64,verbose=False,callbacks=[tf.keras.callbacks.EarlyStopping()])\n"
   ]
  },
  {
   "cell_type": "code",
   "execution_count": 27,
   "metadata": {},
   "outputs": [
    {
     "name": "stdout",
     "output_type": "stream",
     "text": [
      "45/1 - 0s - loss: 0.5486\n"
     ]
    },
    {
     "data": {
      "text/plain": [
       "0.549430623319414"
      ]
     },
     "execution_count": 27,
     "metadata": {},
     "output_type": "execute_result"
    }
   ],
   "source": [
    "# Evaluate the model on the test set\n",
    "\n",
    "unregularised_model.evaluate(test_data, test_targets, verbose=2)\n"
   ]
  },
  {
   "cell_type": "code",
   "execution_count": 28,
   "metadata": {},
   "outputs": [],
   "source": [
    "# Re-train the regularised model\n",
    "regularised_model = get_regularised_model(1e-8,0.2)\n",
    "regularised_model.compile(optimizer='adam', loss='mae')\n",
    "reg_history = regularised_model.fit(train_data, train_targets, epochs=100,validation_split=0.15,batch_size=64,verbose=False,callbacks=[tf.keras.callbacks.EarlyStopping()])\n"
   ]
  },
  {
   "cell_type": "code",
   "execution_count": 29,
   "metadata": {},
   "outputs": [
    {
     "name": "stdout",
     "output_type": "stream",
     "text": [
      "45/1 - 0s - loss: 0.5322\n"
     ]
    },
    {
     "data": {
      "text/plain": [
       "0.559618263774448"
      ]
     },
     "execution_count": 29,
     "metadata": {},
     "output_type": "execute_result"
    }
   ],
   "source": [
    "# Evaluate the model on the test set\n",
    "regularised_model.evaluate(test_data, test_targets, verbose=2)\n"
   ]
  },
  {
   "cell_type": "markdown",
   "metadata": {},
   "source": [
    "#### Plot the learning curves"
   ]
  },
  {
   "cell_type": "code",
   "execution_count": 30,
   "metadata": {},
   "outputs": [
    {
     "data": {
      "image/png": "[encoded data removed]",
      "text/plain": [
       "<Figure size 864x360 with 2 Axes>"
      ]
     },
     "metadata": {
      "needs_background": "light"
     },
     "output_type": "display_data"
    }
   ],
   "source": [
    "# Plot the training and validation loss\n",
    "\n",
    "import matplotlib.pyplot as plt\n",
    "\n",
    "fig = plt.figure(figsize=(12, 5))\n",
    "\n",
    "fig.add_subplot(121)\n",
    "\n",
    "plt.plot(unreg_history.history['loss'])\n",
    "plt.plot(unreg_history.history['val_loss'])\n",
    "plt.title('Unregularised model: loss vs. epochs')\n",
    "plt.ylabel('Loss')\n",
    "plt.xlabel('Epoch')\n",
    "plt.legend(['Training', 'Validation'], loc='upper right')\n",
    "\n",
    "fig.add_subplot(122)\n",
    "\n",
    "plt.plot(reg_history.history['loss'])\n",
    "plt.plot(reg_history.history['val_loss'])\n",
    "plt.title('Regularised model: loss vs. epochs')\n",
    "plt.ylabel('Loss')\n",
    "plt.xlabel('Epoch')\n",
    "plt.legend(['Training', 'Validation'], loc='upper right')\n",
    "\n",
    "plt.show()"
   ]
  },
  {
   "cell_type": "code",
   "execution_count": null,
   "metadata": {},
   "outputs": [],
   "source": []
  }
 ],
 "metadata": {
  "kernelspec": {
   "display_name": "Python 3",
   "language": "python",
   "name": "python3"
  },
  "language_info": {
   "codemirror_mode": {
    "name": "ipython",
    "version": 3
   },
   "file_extension": ".py",
   "mimetype": "text/x-python",
   "name": "python",
   "nbconvert_exporter": "python",
   "pygments_lexer": "ipython3",
   "version": "3.7.1"
  }
 },
 "nbformat": 4,
 "nbformat_minor": 2
}
